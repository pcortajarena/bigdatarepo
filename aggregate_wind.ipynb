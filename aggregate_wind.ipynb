{
 "cells": [
  {
   "cell_type": "code",
   "execution_count": 25,
   "metadata": {},
   "outputs": [],
   "source": [
    "import pandas as pd \n",
    "import numpy as np\n",
    "import json"
   ]
  },
  {
   "cell_type": "code",
   "execution_count": 26,
   "metadata": {},
   "outputs": [],
   "source": [
    "df = pd.read_csv('aemo_2018.csv', low_memory=False)\n",
    "locations_df = pd.read_csv('wind.csv')\n",
    "\n",
    "df['pandas_time'] = pd.to_datetime(df.timestamp)\n",
    "\n",
    "df.index = df['pandas_time']\n",
    "\n",
    "df = df.resample(\"1h\").agg(np.sum)"
   ]
  },
  {
   "cell_type": "code",
   "execution_count": 27,
   "metadata": {},
   "outputs": [],
   "source": [
    "timestamps = df.index.values.astype(str).tolist()\n",
    "sequence_dict = dict()\n",
    "\n",
    "for col in df.columns:\n",
    "    row_of_interst = locations_df.loc[locations_df['DUID'] == col]\n",
    "    \n",
    "    if len(row_of_interst) > 0:\n",
    "        lat = float(row_of_interst['lat'].values[0])\n",
    "        lon = float(row_of_interst['lon'].values[0])\n",
    "        \n",
    "        sequence = list(zip(timestamps, df[col].values.astype(int).tolist()))\n",
    "        sequence_dict[col] = dict()\n",
    "        sequence_dict[col]['data'] = sequence\n",
    "        sequence_dict[col]['lat'] = lat\n",
    "        sequence_dict[col]['lon'] = lon\n"
   ]
  },
  {
   "cell_type": "code",
   "execution_count": 28,
   "metadata": {},
   "outputs": [
    {
     "data": {
      "text/plain": [
       "str"
      ]
     },
     "execution_count": 28,
     "metadata": {},
     "output_type": "execute_result"
    }
   ],
   "source": [
    "sequence_dict['ARWF1']['data'] = sequence_dict['ARWF1']['data'][:10]\n",
    "type(sequence_dict['ARWF1']['data'][0][0])"
   ]
  },
  {
   "cell_type": "code",
   "execution_count": 29,
   "metadata": {},
   "outputs": [],
   "source": [
    "import json\n",
    "with open('AUS_wind_energy.json', 'w') as outfile:\n",
    "    json.dump(sequence_dict, outfile)"
   ]
  },
  {
   "cell_type": "code",
   "execution_count": 21,
   "metadata": {},
   "outputs": [],
   "source": [
    "with open('AUS_wind_energy.json', 'r') as infile:\n",
    "    ai = infile.read()\n",
    "    ini = json.loads(ai)"
   ]
  },
  {
   "cell_type": "code",
   "execution_count": 24,
   "metadata": {},
   "outputs": [
    {
     "data": {
      "text/plain": [
       "{'data': [['2017-12-31T14:00:00.000000000', 1026],\n",
       "  ['2017-12-31T15:00:00.000000000', 1236],\n",
       "  ['2017-12-31T16:00:00.000000000', 1168],\n",
       "  ['2017-12-31T17:00:00.000000000', 1026],\n",
       "  ['2017-12-31T18:00:00.000000000', 1011],\n",
       "  ['2017-12-31T19:00:00.000000000', 913],\n",
       "  ['2017-12-31T20:00:00.000000000', 984],\n",
       "  ['2017-12-31T21:00:00.000000000', 575],\n",
       "  ['2017-12-31T22:00:00.000000000', 304],\n",
       "  ['2017-12-31T23:00:00.000000000', 239]],\n",
       " 'lat': -37.2625968,\n",
       " 'lon': 143.0762782}"
      ]
     },
     "execution_count": 24,
     "metadata": {},
     "output_type": "execute_result"
    }
   ],
   "source": [
    "ini['ARWF1']"
   ]
  },
  {
   "cell_type": "code",
   "execution_count": null,
   "metadata": {},
   "outputs": [],
   "source": []
  }
 ],
 "metadata": {
  "kernelspec": {
   "display_name": "Python 3",
   "language": "python",
   "name": "python3"
  },
  "language_info": {
   "codemirror_mode": {
    "name": "ipython",
    "version": 3
   },
   "file_extension": ".py",
   "mimetype": "text/x-python",
   "name": "python",
   "nbconvert_exporter": "python",
   "pygments_lexer": "ipython3",
   "version": "3.6.7"
  }
 },
 "nbformat": 4,
 "nbformat_minor": 2
}
